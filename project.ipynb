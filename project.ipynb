{
  "nbformat": 4,
  "nbformat_minor": 0,
  "metadata": {
    "colab": {
      "provenance": [],
      "authorship_tag": "ABX9TyPqQBaxZavgQPsgIBOAuYYp",
      "include_colab_link": true
    },
    "kernelspec": {
      "name": "python3",
      "display_name": "Python 3"
    },
    "language_info": {
      "name": "python"
    }
  },
  "cells": [
    {
      "cell_type": "markdown",
      "metadata": {
        "id": "view-in-github",
        "colab_type": "text"
      },
      "source": [
        "<a href=\"https://colab.research.google.com/github/X-Fan-Jack/SmartTrafficLight-ABM-RL/blob/master/project.ipynb\" target=\"_parent\"><img src=\"https://colab.research.google.com/assets/colab-badge.svg\" alt=\"Open In Colab\"/></a>"
      ]
    },
    {
      "cell_type": "code",
      "source": [
        "!pip install mesa"
      ],
      "metadata": {
        "colab": {
          "base_uri": "https://localhost:8080/"
        },
        "id": "Jyo8svqYRau3",
        "outputId": "99b579f8-5fa0-4ad7-ffb8-63e3a3aee536"
      },
      "execution_count": null,
      "outputs": [
        {
          "output_type": "stream",
          "name": "stdout",
          "text": [
            "Looking in indexes: https://pypi.org/simple, https://us-python.pkg.dev/colab-wheels/public/simple/\n",
            "Collecting mesa\n",
            "  Downloading Mesa-1.2.1-py3-none-any.whl (1.8 MB)\n",
            "\u001b[2K     \u001b[90m━━━━━━━━━━━━━━━━━━━━━━━━━━━━━━━━━━━━━━━━\u001b[0m \u001b[32m1.8/1.8 MB\u001b[0m \u001b[31m21.2 MB/s\u001b[0m eta \u001b[36m0:00:00\u001b[0m\n",
            "\u001b[?25hRequirement already satisfied: click in /usr/local/lib/python3.10/dist-packages (from mesa) (8.1.3)\n",
            "Collecting cookiecutter (from mesa)\n",
            "  Downloading cookiecutter-2.1.1-py2.py3-none-any.whl (36 kB)\n",
            "Requirement already satisfied: networkx in /usr/local/lib/python3.10/dist-packages (from mesa) (3.1)\n",
            "Requirement already satisfied: numpy in /usr/local/lib/python3.10/dist-packages (from mesa) (1.22.4)\n",
            "Requirement already satisfied: pandas in /usr/local/lib/python3.10/dist-packages (from mesa) (1.5.3)\n",
            "Requirement already satisfied: tornado in /usr/local/lib/python3.10/dist-packages (from mesa) (6.3.1)\n",
            "Requirement already satisfied: tqdm in /usr/local/lib/python3.10/dist-packages (from mesa) (4.65.0)\n",
            "Collecting binaryornot>=0.4.4 (from cookiecutter->mesa)\n",
            "  Downloading binaryornot-0.4.4-py2.py3-none-any.whl (9.0 kB)\n",
            "Requirement already satisfied: Jinja2<4.0.0,>=2.7 in /usr/local/lib/python3.10/dist-packages (from cookiecutter->mesa) (3.1.2)\n",
            "Requirement already satisfied: pyyaml>=5.3.1 in /usr/local/lib/python3.10/dist-packages (from cookiecutter->mesa) (6.0)\n",
            "Collecting jinja2-time>=0.2.0 (from cookiecutter->mesa)\n",
            "  Downloading jinja2_time-0.2.0-py2.py3-none-any.whl (6.4 kB)\n",
            "Requirement already satisfied: python-slugify>=4.0.0 in /usr/local/lib/python3.10/dist-packages (from cookiecutter->mesa) (8.0.1)\n",
            "Requirement already satisfied: requests>=2.23.0 in /usr/local/lib/python3.10/dist-packages (from cookiecutter->mesa) (2.27.1)\n",
            "Requirement already satisfied: python-dateutil>=2.8.1 in /usr/local/lib/python3.10/dist-packages (from pandas->mesa) (2.8.2)\n",
            "Requirement already satisfied: pytz>=2020.1 in /usr/local/lib/python3.10/dist-packages (from pandas->mesa) (2022.7.1)\n",
            "Requirement already satisfied: chardet>=3.0.2 in /usr/local/lib/python3.10/dist-packages (from binaryornot>=0.4.4->cookiecutter->mesa) (4.0.0)\n",
            "Requirement already satisfied: MarkupSafe>=2.0 in /usr/local/lib/python3.10/dist-packages (from Jinja2<4.0.0,>=2.7->cookiecutter->mesa) (2.1.2)\n",
            "Collecting arrow (from jinja2-time>=0.2.0->cookiecutter->mesa)\n",
            "  Downloading arrow-1.2.3-py3-none-any.whl (66 kB)\n",
            "\u001b[2K     \u001b[90m━━━━━━━━━━━━━━━━━━━━━━━━━━━━━━━━━━━━━━━━\u001b[0m \u001b[32m66.4/66.4 kB\u001b[0m \u001b[31m9.3 MB/s\u001b[0m eta \u001b[36m0:00:00\u001b[0m\n",
            "\u001b[?25hRequirement already satisfied: six>=1.5 in /usr/local/lib/python3.10/dist-packages (from python-dateutil>=2.8.1->pandas->mesa) (1.16.0)\n",
            "Requirement already satisfied: text-unidecode>=1.3 in /usr/local/lib/python3.10/dist-packages (from python-slugify>=4.0.0->cookiecutter->mesa) (1.3)\n",
            "Requirement already satisfied: urllib3<1.27,>=1.21.1 in /usr/local/lib/python3.10/dist-packages (from requests>=2.23.0->cookiecutter->mesa) (1.26.15)\n",
            "Requirement already satisfied: certifi>=2017.4.17 in /usr/local/lib/python3.10/dist-packages (from requests>=2.23.0->cookiecutter->mesa) (2022.12.7)\n",
            "Requirement already satisfied: charset-normalizer~=2.0.0 in /usr/local/lib/python3.10/dist-packages (from requests>=2.23.0->cookiecutter->mesa) (2.0.12)\n",
            "Requirement already satisfied: idna<4,>=2.5 in /usr/local/lib/python3.10/dist-packages (from requests>=2.23.0->cookiecutter->mesa) (3.4)\n",
            "Installing collected packages: binaryornot, arrow, jinja2-time, cookiecutter, mesa\n",
            "Successfully installed arrow-1.2.3 binaryornot-0.4.4 cookiecutter-2.1.1 jinja2-time-0.2.0 mesa-1.2.1\n"
          ]
        }
      ]
    },
    {
      "cell_type": "code",
      "execution_count": null,
      "metadata": {
        "id": "CdVY4ZBbOUKR"
      },
      "outputs": [],
      "source": [
        "import random\n",
        "from mesa import Agent, Model\n",
        "from mesa.time import RandomActivation\n",
        "from mesa.space import MultiGrid\n",
        "\n",
        "class CarAgent(Agent):\n",
        "    def __init__(self, unique_id, model):\n",
        "        super().__init__(unique_id, model)\n",
        "\n",
        "    def move(self):\n",
        "        possible_steps = self.model.grid.get_neighborhood(\n",
        "            self.pos, moore=False, include_center=False)\n",
        "        new_position = self.random.choice(possible_steps)\n",
        "        self.model.grid.move_agent(self, new_position)\n",
        "\n",
        "    def step(self):\n",
        "        self.move()\n",
        "\n",
        "class TrafficLightAgent(Agent):\n",
        "    def __init__(self, unique_id, model):\n",
        "        super().__init__(unique_id, model)\n",
        "        self.state = 'red' \n",
        "        self.green_time = 0 \n",
        "        self.state = \"EW\" \n",
        "\n",
        "    def step(self):\n",
        "        if self.state == 'red':\n",
        "            self.state = 'green'\n",
        "            self.green_time = self.random.randint(10, 30)\n",
        "        elif self.state == 'green':\n",
        "            self.green_time -= 1\n",
        "            if self.green_time <= 0:\n",
        "                self.state = 'red'\n",
        "\n",
        "class CrossroadModel(Model):\n",
        "    def __init__(self, width, height):\n",
        "        self.grid = MultiGrid(width, height, True)\n",
        "        self.step_counter = 0\n",
        "\n",
        "    def step(self):\n",
        "        self.step_counter += 1\n",
        "        if self.step_counter % 2 == 0:\n",
        "            self.generate_new_car()\n",
        "        self.schedule.step()\n",
        "\n",
        "    def generate_new_car(self):\n",
        "        entry_points = [(0, self.height // 2), (self.width - 1, self.height // 2), (self.width // 2, 0), (self.width // 2, self.height - 1)]\n",
        "        entry_point = self.random.choice(entry_points)\n",
        "        new_car = CarAgent(self.next_id(), self)\n",
        "        self.grid.place_agent(new_car, entry_point)\n",
        "\n"
      ]
    }
  ]
}