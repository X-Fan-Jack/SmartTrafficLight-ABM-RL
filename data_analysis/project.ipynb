{
  "cells": [
    {
      "attachments": {},
      "cell_type": "markdown",
      "metadata": {},
      "source": [
        "### Data analysis\n",
        "\n",
        "This is a document for analysis the stupid model solution"
      ]
    },
    {
      "cell_type": "code",
      "execution_count": 2,
      "metadata": {},
      "outputs": [],
      "source": [
        "import numpy as np\n",
        "import pandas as pd"
      ]
    },
    {
      "attachments": {},
      "cell_type": "markdown",
      "metadata": {},
      "source": [
        "### Dumb solution"
      ]
    },
    {
      "attachments": {},
      "cell_type": "markdown",
      "metadata": {},
      "source": [
        "#### Environment:"
      ]
    },
    {
      "attachments": {},
      "cell_type": "markdown",
      "metadata": {},
      "source": [
        "time-window: 180   \n",
        "cool-down: 15 (30, 45, 60)   \n",
        "\n",
        "traffic-flow: NS 10%  EW 25%   \n",
        "\n",
        "cars: speed-limit 5 max-brake 3 max-accel 3   \n",
        "\n",
        "random-swith? Y or N    \n",
        "switch-probability 25 (50 75)   "
      ]
    },
    {
      "cell_type": "code",
      "execution_count": 13,
      "metadata": {},
      "outputs": [
        {
          "name": "stdout",
          "output_type": "stream",
          "text": [
            "<class 'pandas.core.frame.DataFrame'>\n",
            "RangeIndex: 2400 entries, 0 to 2399\n",
            "Data columns (total 20 columns):\n",
            " #   Column                   Non-Null Count  Dtype  \n",
            "---  ------                   --------------  -----  \n",
            " 0   [run number]             2400 non-null   int64  \n",
            " 1   max-accel                2400 non-null   int64  \n",
            " 2   initial-tips             2400 non-null   int64  \n",
            " 3   waiting-cost             2400 non-null   int64  \n",
            " 4   traffic-flow-from-south  2400 non-null   int64  \n",
            " 5   switch-probability       2400 non-null   int64  \n",
            " 6   signal-NS?               2400 non-null   bool   \n",
            " 7   speed-limit              2400 non-null   int64  \n",
            " 8   traffic-flow-from-east   2400 non-null   int64  \n",
            " 9   cool-down                2400 non-null   int64  \n",
            " 10  traffic-flow-from-west   2400 non-null   int64  \n",
            " 11  time-window              2400 non-null   int64  \n",
            " 12  random-switch?           2400 non-null   bool   \n",
            " 13  traffic-flow-from-north  2400 non-null   int64  \n",
            " 14  max-brake                2400 non-null   int64  \n",
            " 15  [step]                   2400 non-null   int64  \n",
            " 16  average-speed            2400 non-null   float64\n",
            " 17  average-wait             2400 non-null   float64\n",
            " 18  average-drive            2400 non-null   float64\n",
            " 19  pass-car                 2400 non-null   int64  \n",
            "dtypes: bool(2), float64(3), int64(15)\n",
            "memory usage: 342.3 KB\n"
          ]
        }
      ],
      "source": [
        "csv = pd.read_csv(\"./experiment_stupid_signal-table.csv\")\n",
        "csv.info()"
      ]
    },
    {
      "cell_type": "code",
      "execution_count": 25,
      "metadata": {},
      "outputs": [
        {
          "name": "stdout",
          "output_type": "stream",
          "text": [
            "<class 'pandas.core.frame.DataFrame'>\n",
            "RangeIndex: 2400 entries, 0 to 2399\n",
            "Data columns (total 7 columns):\n",
            " #   Column              Non-Null Count  Dtype  \n",
            "---  ------              --------------  -----  \n",
            " 0   switch_probability  2400 non-null   int64  \n",
            " 1   cool_down           2400 non-null   int64  \n",
            " 2   random_switch       2400 non-null   bool   \n",
            " 3   average_speed       2400 non-null   float64\n",
            " 4   average_wait        2400 non-null   float64\n",
            " 5   average_drive       2400 non-null   float64\n",
            " 6   pass_car            2400 non-null   int64  \n",
            "dtypes: bool(1), float64(3), int64(3)\n",
            "memory usage: 115.0 KB\n"
          ]
        }
      ],
      "source": [
        "csv_sub = csv.drop(['[run number]', 'max-accel', 'initial-tips', 'waiting-cost', 'traffic-flow-from-south', 'traffic-flow-from-east', 'traffic-flow-from-west', 'traffic-flow-from-north', \n",
        "                     'max-brake', '[step]', 'time-window', 'speed-limit', 'signal-NS?', ], axis=1)\n",
        "csv_sub.rename(columns=lambda x: x.replace(\"-\", \"_\"), inplace=True)\n",
        "csv_sub.rename(columns=lambda x: x.replace(\"?\", \"\"), inplace=True)\n",
        "csv_sub.info()"
      ]
    },
    {
      "cell_type": "code",
      "execution_count": 26,
      "metadata": {},
      "outputs": [
        {
          "data": {
            "text/html": [
              "<div>\n",
              "<style scoped>\n",
              "    .dataframe tbody tr th:only-of-type {\n",
              "        vertical-align: middle;\n",
              "    }\n",
              "\n",
              "    .dataframe tbody tr th {\n",
              "        vertical-align: top;\n",
              "    }\n",
              "\n",
              "    .dataframe thead th {\n",
              "        text-align: right;\n",
              "    }\n",
              "</style>\n",
              "<table border=\"1\" class=\"dataframe\">\n",
              "  <thead>\n",
              "    <tr style=\"text-align: right;\">\n",
              "      <th></th>\n",
              "      <th>switch_probability</th>\n",
              "      <th>cool_down</th>\n",
              "      <th>random_switch</th>\n",
              "      <th>average_speed</th>\n",
              "      <th>average_wait</th>\n",
              "      <th>average_drive</th>\n",
              "      <th>pass_car</th>\n",
              "    </tr>\n",
              "  </thead>\n",
              "  <tbody>\n",
              "    <tr>\n",
              "      <th>100</th>\n",
              "      <td>25</td>\n",
              "      <td>15</td>\n",
              "      <td>False</td>\n",
              "      <td>3.176605</td>\n",
              "      <td>3.463636</td>\n",
              "      <td>4.200000</td>\n",
              "      <td>110</td>\n",
              "    </tr>\n",
              "    <tr>\n",
              "      <th>101</th>\n",
              "      <td>25</td>\n",
              "      <td>15</td>\n",
              "      <td>False</td>\n",
              "      <td>2.745683</td>\n",
              "      <td>4.866071</td>\n",
              "      <td>4.437500</td>\n",
              "      <td>112</td>\n",
              "    </tr>\n",
              "    <tr>\n",
              "      <th>102</th>\n",
              "      <td>25</td>\n",
              "      <td>15</td>\n",
              "      <td>False</td>\n",
              "      <td>2.485549</td>\n",
              "      <td>5.230769</td>\n",
              "      <td>4.721154</td>\n",
              "      <td>104</td>\n",
              "    </tr>\n",
              "    <tr>\n",
              "      <th>103</th>\n",
              "      <td>25</td>\n",
              "      <td>15</td>\n",
              "      <td>False</td>\n",
              "      <td>2.998799</td>\n",
              "      <td>3.631148</td>\n",
              "      <td>4.467213</td>\n",
              "      <td>122</td>\n",
              "    </tr>\n",
              "    <tr>\n",
              "      <th>104</th>\n",
              "      <td>25</td>\n",
              "      <td>15</td>\n",
              "      <td>False</td>\n",
              "      <td>2.640373</td>\n",
              "      <td>4.968000</td>\n",
              "      <td>4.616000</td>\n",
              "      <td>125</td>\n",
              "    </tr>\n",
              "  </tbody>\n",
              "</table>\n",
              "</div>"
            ],
            "text/plain": [
              "     switch_probability  cool_down  random_switch  average_speed   \n",
              "100                  25         15          False       3.176605  \\\n",
              "101                  25         15          False       2.745683   \n",
              "102                  25         15          False       2.485549   \n",
              "103                  25         15          False       2.998799   \n",
              "104                  25         15          False       2.640373   \n",
              "\n",
              "     average_wait  average_drive  pass_car  \n",
              "100      3.463636       4.200000       110  \n",
              "101      4.866071       4.437500       112  \n",
              "102      5.230769       4.721154       104  \n",
              "103      3.631148       4.467213       122  \n",
              "104      4.968000       4.616000       125  "
            ]
          },
          "execution_count": 26,
          "metadata": {},
          "output_type": "execute_result"
        }
      ],
      "source": [
        "csv_cd15 = csv_sub.query(\"cool_down==15 & random_switch==False\")\n",
        "csv_cd15.head()"
      ]
    },
    {
      "cell_type": "code",
      "execution_count": 31,
      "metadata": {},
      "outputs": [
        {
          "name": "stdout",
          "output_type": "stream",
          "text": [
            "pass_car mean: 120.19333333333333\n",
            "average_wait mean: 4.2517575918366655\n",
            "average_drive mean: 4.381012889460001\n",
            "average_speed mean: 2.900626862136667\n"
          ]
        }
      ],
      "source": [
        "average_speed_mean = csv_cd15['average_speed'].mean()\n",
        "average_wait_mean = csv_cd15['average_wait'].mean()\n",
        "average_drive_mean = csv_cd15['average_drive'].mean()\n",
        "pass_car_mean = csv_cd15['pass_car'].mean()\n",
        "\n",
        "\n",
        "print(\"pass_car mean:\", pass_car_mean)\n",
        "print(\"average_wait mean:\", average_wait_mean)\n",
        "print(\"average_drive mean:\", average_drive_mean)\n",
        "print(\"average_speed mean:\", average_speed_mean)"
      ]
    },
    {
      "attachments": {},
      "cell_type": "markdown",
      "metadata": {},
      "source": [
        "### QLearning solution"
      ]
    },
    {
      "attachments": {},
      "cell_type": "markdown",
      "metadata": {},
      "source": [
        "environment:   \n",
        "time-window: 180   \n",
        "cool-down: 15   \n",
        "\n",
        "traffic flow: NS 10% EW 25%   \n",
        "\n",
        "cars: speed-limit 5 max-brake 3 max-accel 3   \n",
        "\n",
        "bonus-delay 3\n",
        "\n",
        "**Result**\n",
        "\n",
        "|name|value|\n",
        "|--|--|\n",
        "|pass-car|132|     \n",
        "|average-wait|5.303030303030303|     \n",
        "|average-drive|4.363636363636363|     \n",
        "|average-speed|2.8787667034933926|     "
      ]
    },
    {
      "attachments": {},
      "cell_type": "markdown",
      "metadata": {},
      "source": [
        "#### Q table sample\n"
      ]
    },
    {
      "attachments": {},
      "cell_type": "markdown",
      "metadata": {},
      "source": [
        "[1.0, 0.0, 7.0, 0.0] -> -19.06206560420644 / -16.496870056253155   \n",
        "[0.0, 3.0, 0.0, 2.0] -> -12.619549672487661 / -33.61444574717617   \n",
        "[5.0, 0.0, 4.0, 0.0] -> -38.65093838879212 / -17.19508267414104   \n",
        "[0.0, 3.0, 0.0, 4.0] -> -27.962340512017846 / -45.48962393049666   \n",
        "[0.0, 3.0, 0.0, 0.0] -> -2.2321796150464053 / -20.199679304398913   \n",
        "[0.0, 3.0, 0.0, 8.0] -> -99.84753616947685 / -73.7917037245436   \n",
        "[0.0, 8.0, 0.0, 0.0] -> -27.461699999999997 / -14.824444444444442   \n",
        "[8.0, 0.0, 4.0, 0.0] -> -63.81606235090793 / -60.51257010238837   \n",
        "[0.0, 1.0, 0.0, 3.0] -> -7.082286068907393 / -33.76942729012743   \n",
        "[0.0, 1.0, 1.0, 2.0] -> 0.9177777777777779 / 0.0   \n",
        "[5.0, 0.0, 9.0, 0.0] -> -20.882404293333334 / -18.721791666666668   \n",
        "[3.0, 0.0, 5.0, 0.0] -> -28.48628947624758 / -15.886028687758074   \n",
        "[7.0, 0.0, 2.0, 0.0] -> -28.46876289131643 / -26.52437684656865   \n",
        "[2.0, 0.0, 3.0, 0.0] -> -23.09135832507939 / -21.80553092977882   \n",
        "[0.0, 0.0, 0.0, 7.0] -> -14.9967335 / -17.67510888888889   \n",
        "[6.0, 0.0, 0.0, 0.0] -> -7.698424773400194 / -8.323185836   \n",
        "[0.0, 8.0, 0.0, 6.0] -> -129.20158081192963 / -136.5098288879756   \n",
        "[1.0, 0.0, 1.0, 0.0] -> -2.601149634640937 / -10.000869767690666   \n",
        "[0.0, 8.0, 0.0, 2.0] -> -56.44981129064721 / -59.956207199569505   \n",
        "[0.0, 8.0, 0.0, 8.0] -> -157.14446337708102 / -249.6502936829875   \n",
        "[0.0, 1.0, 0.0, 1.0] -> -3.3700683678022267 / -17.94532068190407   \n",
        "[9.0, 0.0, 6.0, 0.0] -> -23.059407320261435 / -30.229965850000003   \n",
        "[4.0, 0.0, 7.0, 0.0] -> -42.999587360635005 / -31.972086569411054   \n",
        "[0.0, 8.0, 0.0, 4.0] -> -121.01525222104928 / -102.39840155537576   \n",
        "[7.0, 0.0, 5.0, 0.0] -> -48.38590551747796 / -42.943167453380646   \n",
        "[9.0, 0.0, 9.0, 0.0] -> -55.20802736842106 / -72.80097918128655   \n",
        "[0.0, 5.0, 0.0, 7.0] -> -86.08245373798223 / -73.43450052442468   \n",
        "[0.0, 5.0, 0.0, 5.0] -> -54.4241710109633 / -42.57360528514572   "
      ]
    }
  ],
  "metadata": {
    "colab": {
      "authorship_tag": "ABX9TyPqQBaxZavgQPsgIBOAuYYp",
      "include_colab_link": true,
      "provenance": []
    },
    "kernelspec": {
      "display_name": "Python 3",
      "name": "python3"
    },
    "language_info": {
      "codemirror_mode": {
        "name": "ipython",
        "version": 3
      },
      "file_extension": ".py",
      "mimetype": "text/x-python",
      "name": "python",
      "nbconvert_exporter": "python",
      "pygments_lexer": "ipython3",
      "version": "3.9.13"
    }
  },
  "nbformat": 4,
  "nbformat_minor": 0
}
